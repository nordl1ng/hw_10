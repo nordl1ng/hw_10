{
  "metadata": {
    "kernelspec": {
      "name": "python",
      "display_name": "Python (Pyodide)",
      "language": "python"
    },
    "language_info": {
      "codemirror_mode": {
        "name": "python",
        "version": 3
      },
      "file_extension": ".py",
      "mimetype": "text/x-python",
      "name": "python",
      "nbconvert_exporter": "python",
      "pygments_lexer": "ipython3",
      "version": "3.8"
    }
  },
  "nbformat_minor": 5,
  "nbformat": 4,
  "cells": [
    {
      "cell_type": "markdown",
      "source": "## Задание 1",
      "metadata": {},
      "id": "6adbfc21-3394-4663-86d4-2e96e7582ad2"
    },
    {
      "cell_type": "markdown",
      "source": "Провести дисперсионный анализ для определения того, есть ли различия среднего роста среди взрослых футболистов, хоккеистов и штангистов.  \nДаны значения роста в трех группах случайно выбранных спортсменов:  \n        Футболисты: 173, 175, 180, 178, 177, 185, 183, 182.  \n        Хоккеисты: 177, 179, 180, 188, 177, 172, 171, 184, 180.  \n        Штангисты: 172, 173, 169, 177, 166, 180, 178, 177, 172, 166, 170.  ",
      "metadata": {},
      "id": "0ad37511-e380-46f7-91d1-80ac688ca36f"
    },
    {
      "cell_type": "markdown",
      "source": "Примем нулевую гипотезу H0: μ1=μ2=μ3, о том что различий не наблюдается  \nАльтернативная гипотеза: H1.1 μ1≠μ2 или H1.2 μ2≠μ3 или H1.3 μ1≠μ3   \nДля проверки будем использовать критерий Фишера\n\n$$F_н = \\frac{σ^2_ф}{σ^2_{ост}}$$  где:  \n$$σ^2_ф=\\frac{S^2_ф}{k-1}$$ \n$$σ^2_{ост}=\\frac{S^2_{ост}}{n-k}$$ \nгде k - количество групп сравнения, n - общее количество значений в группах",
      "metadata": {},
      "id": "622c1aa4-1ea4-4e00-8280-58f219d75440"
    },
    {
      "cell_type": "code",
      "source": "import numpy as np\nfrom scipy import stats",
      "metadata": {
        "trusted": true
      },
      "execution_count": 43,
      "outputs": [],
      "id": "df236c22-87b8-4e94-bbe8-a7e6547c9fe9"
    },
    {
      "cell_type": "code",
      "source": "import numpy as np\nfrom scipy import stats",
      "metadata": {
        "trusted": true
      },
      "execution_count": 44,
      "outputs": [],
      "id": "b63066c8-1fb2-4326-8e18-54a2f8f98c86"
    },
    {
      "cell_type": "code",
      "source": "x1 = np.array([173, 175, 180, 178, 177, 185, 183, 182])\nx2 = np.array([177, 179, 180, 188, 177, 172, 171, 184, 180])\nx3 = np.array([172, 173, 169, 177, 166, 180, 178, 177, 172, 166, 170])",
      "metadata": {
        "trusted": true
      },
      "execution_count": 45,
      "outputs": [],
      "id": "a548b94a-fa61-44d1-9ef6-9ccb53c527df"
    },
    {
      "cell_type": "code",
      "source": "k = 3 \nn = len(x1)+len(x2)+len(x3)\nprint(n)",
      "metadata": {
        "trusted": true
      },
      "execution_count": 46,
      "outputs": [
        {
          "name": "stdout",
          "text": "28\n",
          "output_type": "stream"
        }
      ],
      "id": "a01509b2-52aa-4f5b-bc9b-a58bc3146e2b"
    },
    {
      "cell_type": "markdown",
      "source": "Найдем среднее арифметическое по каждой группе",
      "metadata": {},
      "id": "bd9ba9db-97a9-454e-a535-0dbfc30e121b"
    },
    {
      "cell_type": "code",
      "source": "x1_mean=np.mean(x1)\nx2_mean=np.mean(x2)\nx3_mean=np.mean(x3)\nprint(f'Среднее значение по группе x1 = {round(x1_mean,2)}')\nprint(f'Среднее значение по группе x2 = {round(x2_mean,2)}')\nprint(f'Среднее значение по группе x3 = {round(x3_mean,2)}')",
      "metadata": {
        "trusted": true
      },
      "execution_count": 47,
      "outputs": [
        {
          "name": "stdout",
          "text": "Среднее значение по группе x1 = 179.12\nСреднее значение по группе x2 = 178.67\nСреднее значение по группе x3 = 172.73\n",
          "output_type": "stream"
        }
      ],
      "id": "fa23ea64-2918-44b2-ba71-996db321dedc"
    },
    {
      "cell_type": "markdown",
      "source": "Среднее значение по всем группам равно:",
      "metadata": {},
      "id": "6344e638-652e-40f1-a55f-4e3fc20aac0a"
    },
    {
      "cell_type": "code",
      "source": "x1 = [173, 175, 180, 178, 177, 185, 183, 182]\nx2 = [177, 179, 180, 188, 177, 172, 171, 184, 180]\nx3 = [172, 173, 169, 177, 166, 180, 178, 177, 172, 166, 170]\nx123 = x1+x2+x3\ntotal = np.array(x123)\nx_mean_total=np.mean(total)\nx_mean_total\nprint(f'Среднее значение по трем группам x_mean = {round(x_mean_total,2)}')",
      "metadata": {
        "trusted": true
      },
      "execution_count": 48,
      "outputs": [
        {
          "name": "stdout",
          "text": "Среднее значение по трем группам x_mean = 176.46\n",
          "output_type": "stream"
        }
      ],
      "id": "873a2c52-8334-458d-95ac-dc899fb5026c"
    },
    {
      "cell_type": "markdown",
      "source": "Сумма квадратов отклонений от общего среднего\n$$S^2_{общ} = Σ (xij-X)^2$$\n",
      "metadata": {},
      "id": "e9fbc938-01b3-499d-91e2-374846f76a08"
    },
    {
      "cell_type": "code",
      "source": "S_o=np.sum((total-x_mean_total)**2)\nS_o",
      "metadata": {
        "trusted": true
      },
      "execution_count": 49,
      "outputs": [
        {
          "execution_count": 49,
          "output_type": "execute_result",
          "data": {
            "text/plain": "830.9642857142854"
          },
          "metadata": {}
        }
      ],
      "id": "f2051ce4-d586-4bce-8b6f-6d67e88308d4"
    },
    {
      "cell_type": "markdown",
      "source": "Сумма квадратнов отклонений средних групповых значений от общего среднего\n$$S^2_{ф} = Σ^k_{i=1}(xij-X)^2*ni$$",
      "metadata": {},
      "id": "ae048c99-78ac-41a8-b571-5466c0d17048"
    },
    {
      "cell_type": "code",
      "source": "S_f = np.sum((x1_mean-x_mean_total)**2)*len(x1)++np.sum((x2_mean-x_mean_total)**2)*len(x2)+np.sum((x3_mean-x_mean_total)**2)*len(x3)\nS_f",
      "metadata": {
        "trusted": true
      },
      "execution_count": 50,
      "outputs": [
        {
          "execution_count": 50,
          "output_type": "execute_result",
          "data": {
            "text/plain": "253.9074675324678"
          },
          "metadata": {}
        }
      ],
      "id": "1081fd6d-8cc7-4299-a46a-59bf5c067d8c"
    },
    {
      "cell_type": "markdown",
      "source": "Остаточная сумма квадратнов отклонений\n$$S^2_{ост} = Σ^k_{i=1} Σ^{n_i}_{j=1}(xij-X)^2$$\n",
      "metadata": {},
      "id": "8b496825-ce7a-4fdc-ab34-4065932c85e1"
    },
    {
      "cell_type": "code",
      "source": "S_ost = np.sum((x1-x1_mean)**2)+ np.sum((x2-x2_mean)**2)+np.sum((x3-x3_mean)**2)\nS_ost",
      "metadata": {
        "trusted": true
      },
      "execution_count": 51,
      "outputs": [
        {
          "execution_count": 51,
          "output_type": "execute_result",
          "data": {
            "text/plain": "577.0568181818182"
          },
          "metadata": {}
        }
      ],
      "id": "e468253e-bf82-442f-8dac-c161cf9812e2"
    },
    {
      "cell_type": "markdown",
      "source": "Расчитаем факторную дисперсию:\n$$σ^2_ф=\\frac{S^2_ф}{k-1}$$ ",
      "metadata": {},
      "id": "957d8a6c-ad5f-4fbb-ae87-46f3443c51af"
    },
    {
      "cell_type": "code",
      "source": "D_f = S_f / (k-1)\nD_f",
      "metadata": {
        "trusted": true
      },
      "execution_count": 52,
      "outputs": [
        {
          "execution_count": 52,
          "output_type": "execute_result",
          "data": {
            "text/plain": "126.9537337662339"
          },
          "metadata": {}
        }
      ],
      "id": "aa84e555-a017-4e7e-af15-b813c4edfa6f"
    },
    {
      "cell_type": "markdown",
      "source": "Остаточная дисперсия $$σ^2_{ост}=\\frac{S^2_{ост}}{n-k}$$ ",
      "metadata": {},
      "id": "e7f02352-6895-43ff-a665-70acbd0787f7"
    },
    {
      "cell_type": "code",
      "source": "D_ost = S_ost / (n-k) \nD_ost",
      "metadata": {
        "trusted": true
      },
      "execution_count": 53,
      "outputs": [
        {
          "execution_count": 53,
          "output_type": "execute_result",
          "data": {
            "text/plain": "23.08227272727273"
          },
          "metadata": {}
        }
      ],
      "id": "3cb75cdd-c421-4cb5-a63a-d5a79fb7c680"
    },
    {
      "cell_type": "markdown",
      "source": "Итого, критерий Фишера равен по формуле $$F_н = \\frac{σ^2_ф}{σ^2_{ост}}$$",
      "metadata": {},
      "id": "64b231f7-429f-4aa2-8c7b-9fc212284b53"
    },
    {
      "cell_type": "code",
      "source": "F_n = D_f / D_ost\nF_n",
      "metadata": {
        "trusted": true
      },
      "execution_count": 54,
      "outputs": [
        {
          "execution_count": 54,
          "output_type": "execute_result",
          "data": {
            "text/plain": "5.500053450812598"
          },
          "metadata": {}
        }
      ],
      "id": "470a2a79-f46c-4290-a8ab-c1c05ed07c94"
    },
    {
      "cell_type": "markdown",
      "source": "Сравним со значением получаемым при помощи функции f_oneway",
      "metadata": {},
      "id": "366de059-8342-424d-b6ef-c76581a72648"
    },
    {
      "cell_type": "code",
      "source": "f_n = stats.f_oneway(x1,x2,x3)\nf_n",
      "metadata": {
        "trusted": true
      },
      "execution_count": 55,
      "outputs": [
        {
          "execution_count": 55,
          "output_type": "execute_result",
          "data": {
            "text/plain": "F_onewayResult(statistic=5.500053450812596, pvalue=0.010482206918698694)"
          },
          "metadata": {}
        }
      ],
      "id": "3c4b9089-6211-4d71-a21c-39cf4130b8e2"
    },
    {
      "cell_type": "markdown",
      "source": "Значаения совпадают, расчет критерия Фишера проведен. $$F_н = 5,5$$",
      "metadata": {},
      "id": "af0251b5-bd8f-41f3-b4e4-f2b9e06024f4"
    },
    {
      "cell_type": "markdown",
      "source": "Сравним полученное значение с табличным для α = 0,05 и значениях 2 и 25 в таблице равен 3,385 и ниже нашего найденного 5,5, соответственно между группами есть различияю Также, о различиях говорит pvalue, которые ниже α = 0,05",
      "metadata": {},
      "id": "eeb85e4b-c529-4b10-9e97-e21eec7d998d"
    }
  ]
}